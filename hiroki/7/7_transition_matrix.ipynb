{
 "cells": [
  {
   "cell_type": "code",
   "execution_count": 10,
   "metadata": {},
   "outputs": [],
   "source": [
    "import pandas as pd\n",
    "import numpy as np"
   ]
  },
  {
   "cell_type": "code",
   "execution_count": 11,
   "metadata": {},
   "outputs": [
    {
     "data": {
      "text/html": [
       "<div>\n",
       "<style scoped>\n",
       "    .dataframe tbody tr th:only-of-type {\n",
       "        vertical-align: middle;\n",
       "    }\n",
       "\n",
       "    .dataframe tbody tr th {\n",
       "        vertical-align: top;\n",
       "    }\n",
       "\n",
       "    .dataframe thead th {\n",
       "        text-align: right;\n",
       "    }\n",
       "</style>\n",
       "<table border=\"1\" class=\"dataframe\">\n",
       "  <thead>\n",
       "    <tr style=\"text-align: right;\">\n",
       "      <th></th>\n",
       "      <th>4338</th>\n",
       "      <th>4339</th>\n",
       "      <th>4340</th>\n",
       "      <th>4341</th>\n",
       "      <th>4342</th>\n",
       "      <th>4343</th>\n",
       "      <th>4344</th>\n",
       "      <th>4345</th>\n",
       "      <th>4346</th>\n",
       "      <th>4347</th>\n",
       "      <th>...</th>\n",
       "      <th>4376</th>\n",
       "      <th>4377</th>\n",
       "      <th>4378</th>\n",
       "      <th>4379</th>\n",
       "      <th>4380</th>\n",
       "      <th>4381</th>\n",
       "      <th>4382</th>\n",
       "      <th>4383</th>\n",
       "      <th>4384</th>\n",
       "      <th>4385</th>\n",
       "    </tr>\n",
       "  </thead>\n",
       "  <tbody>\n",
       "    <tr>\n",
       "      <th>0</th>\n",
       "      <td>3369</td>\n",
       "      <td>16782</td>\n",
       "      <td>16037</td>\n",
       "      <td>12911</td>\n",
       "      <td>8958</td>\n",
       "      <td>3753</td>\n",
       "      <td>4445</td>\n",
       "      <td>17483</td>\n",
       "      <td>3083</td>\n",
       "      <td>19040</td>\n",
       "      <td>...</td>\n",
       "      <td>15879</td>\n",
       "      <td>20423</td>\n",
       "      <td>6130</td>\n",
       "      <td>8550</td>\n",
       "      <td>16019</td>\n",
       "      <td>19368</td>\n",
       "      <td>23614</td>\n",
       "      <td>17306</td>\n",
       "      <td>13301</td>\n",
       "      <td>7064</td>\n",
       "    </tr>\n",
       "    <tr>\n",
       "      <th>1</th>\n",
       "      <td>7946</td>\n",
       "      <td>22560</td>\n",
       "      <td>21147</td>\n",
       "      <td>17126</td>\n",
       "      <td>9144</td>\n",
       "      <td>7933</td>\n",
       "      <td>8068</td>\n",
       "      <td>22717</td>\n",
       "      <td>8847</td>\n",
       "      <td>24329</td>\n",
       "      <td>...</td>\n",
       "      <td>15944</td>\n",
       "      <td>24798</td>\n",
       "      <td>9772</td>\n",
       "      <td>12523</td>\n",
       "      <td>20763</td>\n",
       "      <td>24705</td>\n",
       "      <td>29688</td>\n",
       "      <td>21887</td>\n",
       "      <td>17214</td>\n",
       "      <td>10271</td>\n",
       "    </tr>\n",
       "    <tr>\n",
       "      <th>2</th>\n",
       "      <td>11601</td>\n",
       "      <td>25244</td>\n",
       "      <td>24279</td>\n",
       "      <td>18101</td>\n",
       "      <td>12603</td>\n",
       "      <td>11187</td>\n",
       "      <td>10969</td>\n",
       "      <td>25193</td>\n",
       "      <td>11934</td>\n",
       "      <td>26793</td>\n",
       "      <td>...</td>\n",
       "      <td>17052</td>\n",
       "      <td>28037</td>\n",
       "      <td>13120</td>\n",
       "      <td>15695</td>\n",
       "      <td>21317</td>\n",
       "      <td>28105</td>\n",
       "      <td>32642</td>\n",
       "      <td>25400</td>\n",
       "      <td>20275</td>\n",
       "      <td>10842</td>\n",
       "    </tr>\n",
       "    <tr>\n",
       "      <th>3</th>\n",
       "      <td>17056</td>\n",
       "      <td>28866</td>\n",
       "      <td>28275</td>\n",
       "      <td>18101</td>\n",
       "      <td>16195</td>\n",
       "      <td>15094</td>\n",
       "      <td>14785</td>\n",
       "      <td>29685</td>\n",
       "      <td>16177</td>\n",
       "      <td>31133</td>\n",
       "      <td>...</td>\n",
       "      <td>19673</td>\n",
       "      <td>30670</td>\n",
       "      <td>15771</td>\n",
       "      <td>19114</td>\n",
       "      <td>21317</td>\n",
       "      <td>31219</td>\n",
       "      <td>36837</td>\n",
       "      <td>28516</td>\n",
       "      <td>23615</td>\n",
       "      <td>11708</td>\n",
       "    </tr>\n",
       "    <tr>\n",
       "      <th>4</th>\n",
       "      <td>21485</td>\n",
       "      <td>32449</td>\n",
       "      <td>31725</td>\n",
       "      <td>18101</td>\n",
       "      <td>19048</td>\n",
       "      <td>18678</td>\n",
       "      <td>18223</td>\n",
       "      <td>32767</td>\n",
       "      <td>19670</td>\n",
       "      <td>33949</td>\n",
       "      <td>...</td>\n",
       "      <td>22726</td>\n",
       "      <td>34274</td>\n",
       "      <td>19336</td>\n",
       "      <td>22883</td>\n",
       "      <td>23853</td>\n",
       "      <td>34310</td>\n",
       "      <td>40351</td>\n",
       "      <td>32224</td>\n",
       "      <td>27047</td>\n",
       "      <td>11789</td>\n",
       "    </tr>\n",
       "  </tbody>\n",
       "</table>\n",
       "<p>5 rows × 48 columns</p>\n",
       "</div>"
      ],
      "text/plain": [
       "    4338   4339   4340   4341   4342   4343   4344   4345   4346   4347  ...  \\\n",
       "0   3369  16782  16037  12911   8958   3753   4445  17483   3083  19040  ...   \n",
       "1   7946  22560  21147  17126   9144   7933   8068  22717   8847  24329  ...   \n",
       "2  11601  25244  24279  18101  12603  11187  10969  25193  11934  26793  ...   \n",
       "3  17056  28866  28275  18101  16195  15094  14785  29685  16177  31133  ...   \n",
       "4  21485  32449  31725  18101  19048  18678  18223  32767  19670  33949  ...   \n",
       "\n",
       "    4376   4377   4378   4379   4380   4381   4382   4383   4384   4385  \n",
       "0  15879  20423   6130   8550  16019  19368  23614  17306  13301   7064  \n",
       "1  15944  24798   9772  12523  20763  24705  29688  21887  17214  10271  \n",
       "2  17052  28037  13120  15695  21317  28105  32642  25400  20275  10842  \n",
       "3  19673  30670  15771  19114  21317  31219  36837  28516  23615  11708  \n",
       "4  22726  34274  19336  22883  23853  34310  40351  32224  27047  11789  \n",
       "\n",
       "[5 rows x 48 columns]"
      ]
     },
     "execution_count": 11,
     "metadata": {},
     "output_type": "execute_result"
    }
   ],
   "source": [
    "# data\n",
    "rust_timeseries = {}\n",
    "\n",
    "for i in range(8):\n",
    "  rust_timeseries[f\"bus_group{i+1}\"] = pd.read_excel(\n",
    "    \"rust_timeseries_data.xlsx\", sheet_name=i\n",
    "      )\n",
    "  \n",
    "rust_timeseries[\"bus_group3\"].head()"
   ]
  },
  {
   "cell_type": "markdown",
   "metadata": {},
   "source": [
    "## 遷移行列の推定\n",
    "\n",
    "*  x1,x2導出\n",
    "    1. ビンを作成(1,2, ..., 21)．\n",
    "        - ビン20までのデータで推定可能なので，ビン21を，欠損値に変換．\n",
    "    2. 下から上の差分取る．\n",
    "    3. 0, 1の数を数え，リストに収納．\n",
    "    4. この操作を全てのバスグループで行い，リストを合計する．\n",
    "    5. x1,x2がわかる．\n",
    "\n",
    "* x3の導出\n",
    "    1. ビンを作成(1,2, ..., 21)．\n",
    "    2. 差分が2のデータを収集．\n",
    "    3. 足してx3がわかる．\n",
    "\n",
    "* x4の導出\n",
    "    1. 20→21のデータを数える． \n",
    "    2. x4がわかる．"
   ]
  },
  {
   "cell_type": "code",
   "execution_count": 12,
   "metadata": {},
   "outputs": [
    {
     "data": {
      "text/plain": [
       "(982, 2175)"
      ]
     },
     "execution_count": 12,
     "metadata": {},
     "output_type": "execute_result"
    }
   ],
   "source": [
    "# x1,x2\n",
    "total_counts = [0, 0]\n",
    "\n",
    "for i in range(8):\n",
    "  df = rust_timeseries[f\"bus_group{i+1}\"]\n",
    "  for j in range(20):\n",
    "    lower_bound = j * 5000\n",
    "    upper_bound = (j + 1) * 5000\n",
    "    df = df.applymap(lambda x: j+1 if lower_bound <= x < upper_bound else x)\n",
    "    \n",
    "  # 21個目のビンを欠損値に変換\n",
    "  df = df.applymap(lambda x: np.nan if 20*5000 <= x else x)\n",
    "  \n",
    "  df = df.diff()\n",
    "\n",
    "  counts = [(df == val).sum().sum() for val in [0, 1]]\n",
    "  total_counts = [total_counts[i] + counts[i] for i in range(len(total_counts))]\n",
    "\n",
    "x1,x2 = total_counts\n",
    "x1,x2"
   ]
  },
  {
   "cell_type": "code",
   "execution_count": 13,
   "metadata": {},
   "outputs": [
    {
     "data": {
      "text/plain": [
       "61"
      ]
     },
     "execution_count": 13,
     "metadata": {},
     "output_type": "execute_result"
    }
   ],
   "source": [
    "# x3\n",
    "total_counts = [0]\n",
    "\n",
    "for i in range(8):\n",
    "  df = rust_timeseries[f\"bus_group{i+1}\"]\n",
    "  for j in range(20):\n",
    "    lower_bound = j * 5000\n",
    "    upper_bound = (j + 1) * 5000\n",
    "    df = df.applymap(lambda x: j+1 if lower_bound <= x < upper_bound else x)\n",
    "    df = df.applymap(lambda x: 21 if 20*5000 <= x else x) # ビン21の処理\n",
    "    \n",
    "  df = df.diff()\n",
    "\n",
    "  counts = [(df == val).sum().sum() for val in [2]]\n",
    "  total_counts = [total_counts[i] + counts[i] for i in range(len(total_counts))]\n",
    "\n",
    "x3 = total_counts[0]\n",
    "x3"
   ]
  },
  {
   "cell_type": "code",
   "execution_count": 14,
   "metadata": {},
   "outputs": [
    {
     "data": {
      "text/plain": [
       "119"
      ]
     },
     "execution_count": 14,
     "metadata": {},
     "output_type": "execute_result"
    }
   ],
   "source": [
    "# x4\n",
    "total_counts = [0]\n",
    "\n",
    "for i in range(8):\n",
    "  df = rust_timeseries[f\"bus_group{i+1}\"]\n",
    "\n",
    "  # 20, 21個目のビンだけ処理\n",
    "  df = df.applymap(lambda x: 20 if 19*5000 <= x < 20*5000 else x)  \n",
    "  df = df.applymap(lambda x: 21 if 20*5000 <= x  else x)\n",
    "  df = df.applymap(lambda x: x if x == 20 or x ==21 else np.nan)\n",
    "\n",
    "  df = df.diff()\n",
    "\n",
    "  counts = [(df == val).sum().sum() for val in [1]]\n",
    "  total_counts = [total_counts[i] + counts[i] for i in range(len(total_counts))]\n",
    "\n",
    "x4 = total_counts[0]\n",
    "x4"
   ]
  },
  {
   "cell_type": "code",
   "execution_count": 15,
   "metadata": {},
   "outputs": [
    {
     "name": "stdout",
     "output_type": "stream",
     "text": [
      "982 2175 61 119\n"
     ]
    }
   ],
   "source": [
    "print(x1,x2,x3,x4)"
   ]
  },
  {
   "cell_type": "code",
   "execution_count": 16,
   "metadata": {},
   "outputs": [
    {
     "name": "stdout",
     "output_type": "stream",
     "text": [
      "0.6864709552944355 0.019252748631246236\n"
     ]
    }
   ],
   "source": [
    "kappa1 = (x2*(x2 + x3 + x4))/((x2 + x3)*(x1 + x2 + x3 + x4))\n",
    "kappa2 = (x3*(x2 + x3 + x4))/((x2 + x3)*(x1 + x2 + x3 + x4))\n",
    "print(kappa1,kappa2)"
   ]
  }
 ],
 "metadata": {
  "kernelspec": {
   "display_name": "test",
   "language": "python",
   "name": "python3"
  },
  "language_info": {
   "codemirror_mode": {
    "name": "ipython",
    "version": 3
   },
   "file_extension": ".py",
   "mimetype": "text/x-python",
   "name": "python",
   "nbconvert_exporter": "python",
   "pygments_lexer": "ipython3",
   "version": "3.10.9"
  }
 },
 "nbformat": 4,
 "nbformat_minor": 2
}
